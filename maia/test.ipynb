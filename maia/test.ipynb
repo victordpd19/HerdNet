{
 "cells": [
  {
   "cell_type": "code",
   "execution_count": 4,
   "id": "aeb70910",
   "metadata": {},
   "outputs": [
    {
     "name": "stdout",
     "output_type": "stream",
     "text": [
      "^C\n"
     ]
    },
    {
     "name": "stdout",
     "output_type": "stream",
     "text": [
      "Collecting pandas\n",
      "  Downloading pandas-2.2.3-cp311-cp311-win_amd64.whl.metadata (19 kB)\n",
      "Collecting numpy>=1.23.2 (from pandas)\n",
      "  Downloading numpy-2.2.5-cp311-cp311-win_amd64.whl.metadata (60 kB)\n",
      "Requirement already satisfied: python-dateutil>=2.8.2 in c:\\users\\vic_p\\onedrive\\documents\\maestria\\proyecto-despliegue\\herdnet\\.venv\\lib\\site-packages (from pandas) (2.9.0.post0)\n",
      "Collecting pytz>=2020.1 (from pandas)\n",
      "  Downloading pytz-2025.2-py2.py3-none-any.whl.metadata (22 kB)\n",
      "Collecting tzdata>=2022.7 (from pandas)\n",
      "  Downloading tzdata-2025.2-py2.py3-none-any.whl.metadata (1.4 kB)\n",
      "Requirement already satisfied: six>=1.5 in c:\\users\\vic_p\\onedrive\\documents\\maestria\\proyecto-despliegue\\herdnet\\.venv\\lib\\site-packages (from python-dateutil>=2.8.2->pandas) (1.17.0)\n",
      "Downloading pandas-2.2.3-cp311-cp311-win_amd64.whl (11.6 MB)\n",
      "   ---------------------------------------- 0.0/11.6 MB ? eta -:--:--\n",
      "   ------ --------------------------------- 1.8/11.6 MB 20.2 MB/s eta 0:00:01\n",
      "   ---------------------------------------  11.5/11.6 MB 38.1 MB/s eta 0:00:01\n",
      "   ---------------------------------------  11.5/11.6 MB 38.1 MB/s eta 0:00:01\n",
      "   ---------------------------------------- 11.6/11.6 MB 18.6 MB/s eta 0:00:00\n",
      "Downloading numpy-2.2.5-cp311-cp311-win_amd64.whl (12.9 MB)\n",
      "   ---------------------------------------- 0.0/12.9 MB ? eta -:--:--\n",
      "   ---------------------------------------  12.8/12.9 MB 66.9 MB/s eta 0:00:01\n",
      "   ---------------------------------------- 12.9/12.9 MB 50.7 MB/s eta 0:00:00\n",
      "Downloading pytz-2025.2-py2.py3-none-any.whl (509 kB)\n",
      "Downloading tzdata-2025.2-py2.py3-none-any.whl (347 kB)\n",
      "Installing collected packages: pytz, tzdata, numpy, pandas\n",
      "Successfully installed numpy-2.2.5 pandas-2.2.3 pytz-2025.2 tzdata-2025.2\n"
     ]
    }
   ],
   "source": [
    "# !pip install pandas"
   ]
  },
  {
   "cell_type": "code",
   "execution_count": null,
   "id": "3cf88232",
   "metadata": {},
   "outputs": [
    {
     "data": {
      "text/plain": [
       "labels\n",
       "6    2012\n",
       "3    1732\n",
       "1    1678\n",
       "2    1058\n",
       "4     316\n",
       "5     166\n",
       "Name: count, dtype: int64"
      ]
     },
     "execution_count": 5,
     "metadata": {},
     "output_type": "execute_result"
    }
   ],
   "source": [
    "import pandas as pd\n",
    "df = pd.read_csv(\"train_custom.csv\")\n",
    "df['labels'].value_counts()\n"
   ]
  },
  {
   "cell_type": "code",
   "execution_count": 23,
   "id": "3d57d05f",
   "metadata": {},
   "outputs": [
    {
     "data": {
      "text/plain": [
       "{6: 0.0004970178926441351,\n",
       " 3: 0.0005773672055427252,\n",
       " 1: 0.0005959475566150178,\n",
       " 2: 0.000945179584120983,\n",
       " 4: 0.0031645569620253164,\n",
       " 5: 0.006024096385542169}"
      ]
     },
     "execution_count": 23,
     "metadata": {},
     "output_type": "execute_result"
    }
   ],
   "source": [
    "weights = df['labels'].value_counts().to_dict()\n",
    "weights = {k: 1/v for k, v in weights.items()}\n",
    "weights"
   ]
  },
  {
   "cell_type": "code",
   "execution_count": 24,
   "id": "8d106566",
   "metadata": {},
   "outputs": [],
   "source": [
    "weights[0] = 0.0"
   ]
  },
  {
   "cell_type": "code",
   "execution_count": 25,
   "id": "e4acc298",
   "metadata": {},
   "outputs": [
    {
     "data": {
      "text/plain": [
       "{6: 1.49, 3: 1.73, 1: 1.79, 2: 2.84, 4: 9.49, 5: 18.07, 0: 0.0}"
      ]
     },
     "execution_count": 25,
     "metadata": {},
     "output_type": "execute_result"
    }
   ],
   "source": [
    "int_weights = {k: v*3000 for k, v in weights.items()}\n",
    "int_weights = {k: round(v,2) for k, v in int_weights.items()}\n",
    "int_weights"
   ]
  },
  {
   "cell_type": "code",
   "execution_count": 26,
   "id": "c44e76ed",
   "metadata": {},
   "outputs": [
    {
     "data": {
      "text/plain": [
       "[0.1, 1.2, 1.9, 1.16, 6.37, 12.12, 1.0]"
      ]
     },
     "execution_count": 26,
     "metadata": {},
     "output_type": "execute_result"
    }
   ],
   "source": [
    "min_nonzero = min([v for k, v in weights.items() if v > 0])\n",
    "normalized_weights = {k: round(v / min_nonzero, 2) if v > 0 else 0.1 for k, v in weights.items()}\n",
    "\n",
    "final_weight_vector = [normalized_weights[i] for i in range(7)]\n",
    "final_weight_vector"
   ]
  }
 ],
 "metadata": {
  "kernelspec": {
   "display_name": ".venv",
   "language": "python",
   "name": "python3"
  },
  "language_info": {
   "codemirror_mode": {
    "name": "ipython",
    "version": 3
   },
   "file_extension": ".py",
   "mimetype": "text/x-python",
   "name": "python",
   "nbconvert_exporter": "python",
   "pygments_lexer": "ipython3",
   "version": "3.11.9"
  }
 },
 "nbformat": 4,
 "nbformat_minor": 5
}
